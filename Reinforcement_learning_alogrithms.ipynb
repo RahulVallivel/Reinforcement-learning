{
 "cells": [
  {
   "cell_type": "markdown",
   "metadata": {},
   "source": [
    "# ELEN 6885 Reinforcement Learning coding assignment"
   ]
  },
  {
   "cell_type": "markdown",
   "metadata": {},
   "source": [
    "Your code should remain in the block marked by<br />\n",
    "\\############################<br />\n",
    "\\# YOUR CODE STARTS HERE<br />\n",
    "\\# YOUR CODE ENDS HERE<br />\n",
    "\\############################<br />\n",
    "Please don't edit anything outside the block."
   ]
  },
  {
   "cell_type": "code",
   "execution_count": 1,
   "metadata": {},
   "outputs": [],
   "source": [
    "% load_ext autoreload\n",
    "% autoreload 2\n",
    "import numpy as np\n",
    "import random\n",
    "import matplotlib.pyplot as plt\n",
    "import gym"
   ]
  },
  {
   "cell_type": "markdown",
   "metadata": {},
   "source": [
    "## 1. Incremental Implementation of Average\n",
    "We've finished the incremental implementation of average for you. Please call the function estimate with 1/step step size and fixed step size to compare the difference between this two on a simulated Bandit problem.<br />\n",
    "<span style=\"color:red\">(2 pts)</span>"
   ]
  },
  {
   "cell_type": "code",
   "execution_count": 2,
   "metadata": {},
   "outputs": [
    {
     "name": "stdout",
     "output_type": "stream",
     "text": [
      "RLalgs is a package containing Reinforcement Learning algorithms Epsilon-Greedy, Policy Iteration, Value Iteration, Q-Learning, and SARSA.\n"
     ]
    }
   ],
   "source": [
    "from RLalgs.utils import estimate\n",
    "random.seed(6885)\n",
    "numTimeStep = 10000\n",
    "q_h = np.zeros(numTimeStep + 1) # Q Value estimate with 1/step step size\n",
    "q_f = np.zeros(numTimeStep + 1) # Q value estimate with fixed step size\n",
    "FixedStepSize = 0.5 #A large number to exaggerate the difference\n",
    "for step in range(1, numTimeStep + 1):\n",
    "    if step < numTimeStep / 2:\n",
    "        r = random.gauss(mu = 1, sigma = 0.1)\n",
    "    else:\n",
    "        r = random.gauss(mu = 3, sigma = 0.1)\n",
    "    \n",
    "    #TIPS: Call function estimate defined in ./RLalgs/utils.py\n",
    "    ############################\n",
    "    # YOUR CODE STARTS HERE\n",
    "    q_h[step] = estimate(q_h[step-1],1/step,r)\n",
    "    q_f[step] = estimate(q_f[step-1],FixedStepSize,r)\n",
    "    # YOUR CODE ENDS HERE\n",
    "    ############################\n",
    "    \n",
    "q_h = q_h[1:]\n",
    "q_f = q_f[1:]"
   ]
  },
  {
   "cell_type": "markdown",
   "metadata": {},
   "source": [
    "Plot the two Q value estimates. (Please include a title, labels on both axes, and legends)<br />\n",
    "<span style=\"color:red\">(3 pts)</span>"
   ]
  },
  {
   "cell_type": "code",
   "execution_count": 3,
   "metadata": {},
   "outputs": [
    {
     "data": {
      "text/plain": [
       "Text(0.5,1,'Q value estimate - 1/step vs fixed step size')"
      ]
     },
     "execution_count": 3,
     "metadata": {},
     "output_type": "execute_result"
    },
    {
     "data": {
      "image/png": "[encoded data removed]",
      "text/plain": [
       "<Figure size 432x288 with 1 Axes>"
      ]
     },
     "metadata": {
      "needs_background": "light"
     },
     "output_type": "display_data"
    }
   ],
   "source": [
    "############################\n",
    "# YOUR CODE STARTS HERE\n",
    "plt.plot(q_h)\n",
    "plt.plot(q_f)\n",
    "plt.legend(['q_h','q_f'])\n",
    "plt.ylabel('estimate')\n",
    "plt.xlabel('step')\n",
    "plt.title('Q value estimate - 1/step vs fixed step size')\n",
    "\n",
    "# YOUR CODE ENDS HERE\n",
    "############################"
   ]
  },
  {
   "cell_type": "markdown",
   "metadata": {},
   "source": [
    "## 2. $\\epsilon$-Greedy for Exploration\n",
    "In Reinforcement Learning, we are always faced with the dilemma of exploration and exploitation. $\\epsilon$-Greedy is a trade-off between them. You are gonna implement Greedy and $\\epsilon$-Greedy. We combine these two policies in one function by treating Greedy as $\\epsilon$-Greedy where $\\epsilon = 0$. Edit the function epsilon_greedy in ./RLalgs/utils.py.<br />\n",
    "<span style=\"color:red\">(5 pts)</span>"
   ]
  },
  {
   "cell_type": "code",
   "execution_count": 4,
   "metadata": {},
   "outputs": [
    {
     "name": "stdout",
     "output_type": "stream",
     "text": [
      "Values:\n",
      "[ 0.61264537  0.27923079 -0.84600857  0.05469574 -1.09990968]\n",
      "Greedy Choice = [0]\n",
      "Epsilon-Greedy Choice = [0]\n"
     ]
    }
   ],
   "source": [
    "from RLalgs.utils import epsilon_greedy\n",
    "np.random.seed(6885) #Set the seed to cancel the randomness\n",
    "q = np.random.normal(0, 1, size = 5)\n",
    "\n",
    "############################\n",
    "# YOUR CODE STARTS HERE\n",
    "greedy_action = epsilon_greedy(q,0,6885) #Use epsilon = 0 for Greedy\n",
    "e_greedy_action = epsilon_greedy(q,0.1,6885) #Use epsilon = 0.1\n",
    "# YOUR CODE ENDS HERE\n",
    "############################\n",
    "print('Values:')\n",
    "print(q)\n",
    "print('Greedy Choice =', greedy_action)\n",
    "print('Epsilon-Greedy Choice =', e_greedy_action)"
   ]
  },
  {
   "cell_type": "markdown",
   "metadata": {},
   "source": [
    "You should get the following results.<br />\n",
    "Values:<br />\n",
    "\\[ 0.61264537  0.27923079 -0.84600857  0.05469574 -1.09990968\\]<br />\n",
    "Greedy Choice = 0<br />"
   ]
  },
  {
   "cell_type": "markdown",
   "metadata": {},
   "source": [
    "## 3. Frozen Lake Environment "
   ]
  },
  {
   "cell_type": "code",
   "execution_count": 5,
   "metadata": {},
   "outputs": [],
   "source": [
    "env = gym.make('FrozenLake-v0')"
   ]
  },
  {
   "cell_type": "markdown",
   "metadata": {},
   "source": [
    "### 3.1 Derive Q value from V value\n",
    "Edit function action_evaluation in ./RLalgs/utils.py.<br />\n",
    "TIPS: $q(s, a)=\\sum_{s',r}p(s',r|s,a)(r+\\gamma v(s'))$<br />\n",
    "<span style=\"color:red\">(5 pts)</span>"
   ]
  },
  {
   "cell_type": "code",
   "execution_count": 6,
   "metadata": {
    "scrolled": true
   },
   "outputs": [
    {
     "name": "stdout",
     "output_type": "stream",
     "text": [
      "Action values:\n",
      "[[1.         1.         1.         1.        ]\n",
      " [1.         1.         1.         1.        ]\n",
      " [1.         1.         1.         1.        ]\n",
      " [1.         1.         1.         1.        ]\n",
      " [1.         1.         1.         1.        ]\n",
      " [1.         1.         1.         1.        ]\n",
      " [1.         1.         1.         1.        ]\n",
      " [1.         1.         1.         1.        ]\n",
      " [1.         1.         1.         1.        ]\n",
      " [1.         1.         1.         1.        ]\n",
      " [1.         1.         1.         1.        ]\n",
      " [1.         1.         1.         1.        ]\n",
      " [1.         1.         1.         1.        ]\n",
      " [1.         1.         1.         1.        ]\n",
      " [1.         1.33333333 1.33333333 1.33333333]\n",
      " [1.         1.         1.         1.        ]]\n"
     ]
    }
   ],
   "source": [
    "from RLalgs.utils import action_evaluation\n",
    "v = np.ones(16)\n",
    "q = action_evaluation(env = env.env, gamma = 1, v = v)\n",
    "print('Action values:')\n",
    "print(q)"
   ]
  },
  {
   "cell_type": "markdown",
   "metadata": {},
   "source": [
    "You should get Q values all equal to one except at State 14"
   ]
  },
  {
   "cell_type": "markdown",
   "metadata": {},
   "source": [
    "Pseudo-codes of the following four algorithms can be found on Page 80, 83, 130, 131 of the Sutton's book."
   ]
  },
  {
   "cell_type": "markdown",
   "metadata": {},
   "source": [
    "### 3.2 Model-based RL algorithms"
   ]
  },
  {
   "cell_type": "code",
   "execution_count": 7,
   "metadata": {},
   "outputs": [],
   "source": [
    "from RLalgs.utils import action_evaluation, action_selection, render"
   ]
  },
  {
   "cell_type": "markdown",
   "metadata": {},
   "source": [
    "### 3.2.1 Policy Iteration\n",
    "Edit the function policy_iteration and relevant functions in ./RLalgs/pi.py to implement the Policy Iteration Algorithm.<br />\n",
    "<span style=\"color:red\">(15 pts)</span>"
   ]
  },
  {
   "cell_type": "code",
   "execution_count": 31,
   "metadata": {},
   "outputs": [
    {
     "name": "stdout",
     "output_type": "stream",
     "text": [
      "State values:\n",
      "[0.82352901 0.82352887 0.82352877 0.82352872 0.82352903 0.\n",
      " 0.52941147 0.         0.82352909 0.82352917 0.76470567 0.\n",
      " 0.         0.88235277 0.94117638 0.        ]\n",
      "Number of iterations to converge = 3\n",
      "[0 3 3 3 0 0 0 0 3 1 0 0 0 2 1 0]\n"
     ]
    }
   ],
   "source": [
    "from RLalgs.pi import policy_iteration\n",
    "V, policy, numIterations = policy_iteration(env = env.env, gamma = 1, max_iteration = 500, theta = 1e-7)\n",
    "print('State values:')\n",
    "print(V)\n",
    "print('Number of iterations to converge =', numIterations)\n",
    "print(policy)"
   ]
  },
  {
   "cell_type": "markdown",
   "metadata": {},
   "source": [
    "You should get values close to:<br />\n",
    "State values:<br />\n",
    "\\[0.82352774 0.8235272  0.82352682 0.82352662 0.82352791 0.<br />\n",
    "0.52941063 0.         0.82352817 0.82352851 0.76470509 0.<br />0.         0.88235232 0.94117615 0.\\]"
   ]
  },
  {
   "cell_type": "code",
   "execution_count": 32,
   "metadata": {},
   "outputs": [],
   "source": [
    "#Uncomment and run the following to evaluate your result, comment them when you generate the pdf\n",
    "#Q = action_evaluation(env = env.env, gamma = 1, v = V)\n",
    "#policy_estimate = action_selection(Q)\n",
    "#render(env, policy_estimate)"
   ]
  },
  {
   "cell_type": "markdown",
   "metadata": {},
   "source": [
    "### 3.2.2 Value Iteration\n",
    "Edit the function value_iteration and relevant functions in ./RLalgs/vi.py to implement the Value Iteration Algorithm.<br />\n",
    "<span style=\"color:red\">(10 pts)</span>"
   ]
  },
  {
   "cell_type": "code",
   "execution_count": 33,
   "metadata": {
    "scrolled": true
   },
   "outputs": [
    {
     "name": "stdout",
     "output_type": "stream",
     "text": [
      "State values:\n",
      "[0.82352901 0.82352887 0.82352877 0.82352872 0.82352904 0.\n",
      " 0.52941147 0.         0.82352909 0.82352917 0.76470567 0.\n",
      " 0.         0.88235277 0.94117638 0.        ]\n",
      "Number of iterations to converge = 1\n",
      "[0 3 3 3 0 0 0 0 3 1 0 0 0 2 1 0]\n"
     ]
    }
   ],
   "source": [
    "from RLalgs.vi import value_iteration\n",
    "V, policy, numIterations = value_iteration(env = env.env, gamma = 1, max_iteration = 500, theta = 1e-7)\n",
    "print('State values:')\n",
    "print(V)\n",
    "print('Number of iterations to converge =', numIterations)\n",
    "print(policy)"
   ]
  },
  {
   "cell_type": "markdown",
   "metadata": {},
   "source": [
    "You should get values close to:<br />\n",
    "State values:<br />\n",
    "\\[0.82352773 0.82352718  0.8235268 0.8235266 0.8235279 0.<br />\n",
    "0.52941062 0.         0.82352816 0.8235285 0.76470509 0.<br />0.         0.88235231 0.94117615 0.\\]"
   ]
  },
  {
   "cell_type": "code",
   "execution_count": null,
   "metadata": {},
   "outputs": [],
   "source": [
    "#Uncomment and run the following to evaluate your result, comment them when you generate the pdf\n",
    "#Q = action_evaluation(env = env.env, gamma = 1, v = V)\n",
    "#policy_estimate = action_selection(Q)\n",
    "#render(env, policy_estimate)"
   ]
  },
  {
   "cell_type": "markdown",
   "metadata": {},
   "source": [
    "### 3.3 Model free RL algorithms"
   ]
  },
  {
   "cell_type": "markdown",
   "metadata": {},
   "source": [
    "### 3.3.1 Q-Learning\n",
    "Edit the function QLearning in ./RLalgs/ql.py to implement the Q-Learning Algorithm.<br />\n",
    "<span style=\"color:red\">(10 pts)</span>"
   ]
  },
  {
   "cell_type": "code",
   "execution_count": null,
   "metadata": {},
   "outputs": [],
   "source": [
    "from RLalgs.ql import QLearning\n",
    "Q = QLearning(env = env.env, num_episodes = 10000, gamma = 1, lr = 0.1, e = 0.1)\n",
    "print('Action values:')\n",
    "print(Q)\n"
   ]
  },
  {
   "cell_type": "markdown",
   "metadata": {},
   "source": [
    "Generally, you should get non-zero action values on non-terminal states."
   ]
  },
  {
   "cell_type": "code",
   "execution_count": null,
   "metadata": {},
   "outputs": [],
   "source": [
    "#Uncomment the following to evaluate your result, comment them when you generate the pdf 0 3 3 3 0 0 0 0 3 1 0 0 0 2 1 0\n",
    "#policy_estimate = action_selection(Q)\n",
    "#render(env, policy_estimate)"
   ]
  },
  {
   "cell_type": "markdown",
   "metadata": {},
   "source": [
    "### 3.3.2 SARSA\n",
    "Edit the function SARSA in ./RLalgs/sarsa.py to implement the SARSA Algorithm.<br />\n",
    "<span style=\"color:red\">(10 pts)</span>"
   ]
  },
  {
   "cell_type": "code",
   "execution_count": null,
   "metadata": {},
   "outputs": [],
   "source": [
    "from RLalgs.sarsa import SARSA\n",
    "Q = SARSA(env = env.env, num_episodes = 9000, gamma = 1, lr = 0.1, e = 0.1)\n",
    "print('Action values:')\n",
    "print(Q)\n"
   ]
  },
  {
   "cell_type": "markdown",
   "metadata": {},
   "source": [
    "Generally, you should get non-zero action values on non-terminal states."
   ]
  },
  {
   "cell_type": "code",
   "execution_count": null,
   "metadata": {},
   "outputs": [],
   "source": [
    "#Uncomment the following to evaluate your result, comment them when you generate the pdf\n",
    "#policy_estimate = action_selection(Q)\n",
    "#render(env, policy_estimate)"
   ]
  },
  {
   "cell_type": "markdown",
   "metadata": {},
   "source": [
    "### 3.4 Human\n",
    "You can play this game if you are interested. See if you can get the frisbee either with or without the model."
   ]
  },
  {
   "cell_type": "code",
   "execution_count": null,
   "metadata": {},
   "outputs": [],
   "source": [
    "from RLalgs.utils import human_play\n",
    "#Uncomment and run the following to play the game, comment it when you generate the pdf\n",
    "#human_play(env)"
   ]
  },
  {
   "cell_type": "markdown",
   "metadata": {},
   "source": [
    "# 4. Exploration VS. Exploitation\n",
    "Try to reproduce Figure 2.2 (the upper one is enough) of the Sutton's book based on the experiment described in Chapter 2.3.<br />\n",
    "<span style=\"color:red\">Extra credit (3 pts)</span>"
   ]
  },
  {
   "cell_type": "code",
   "execution_count": null,
   "metadata": {},
   "outputs": [],
   "source": [
    "# Do the experiment and record average reward acquired in each time step\n",
    "############################\n",
    "# YOUR CODE STARTS HERE\n",
    "import numpy as np\n",
    "from tqdm import tqdm\n",
    "\n",
    "\n",
    "\n",
    "\n",
    "eps=[0,0.1,0.01] \n",
    "\n",
    "\n",
    "\n",
    "def epsilon_greedy(value, e):\n",
    "    \n",
    "        if random.random()<e : \n",
    "                action=np.random.randint(10)\n",
    "        else : \n",
    "                action=np.argmax(value)\n",
    "\n",
    "        return action\n",
    "\n",
    "\n",
    "q_t=np.random.normal(0,1,(2000,10)) \n",
    "\n",
    "for e in range(len(eps)) : \n",
    "    reward_per_episode=[]\n",
    "    q_values=np.zeros((2000,10)) \n",
    "    times_chosen=np.ones((2000,10))\n",
    "     \n",
    "    reward_per_episode.append(0)\n",
    "    q_start=np.random.normal(q_t,1)\n",
    "    reward_per_episode.append(np.mean(q_start))\n",
    "    \n",
    "    \n",
    "    \n",
    "    for j in tqdm(range(1,1000)) :  \n",
    "        rewards=[]\n",
    "        \n",
    "        for i in range(2000) :\n",
    "            a=epsilon_greedy(q_values[i],eps[e])\n",
    "            reward=np.random.normal(q_t[i][a],1)\n",
    "            rewards.append(reward)\n",
    "            times_chosen[i][a]=times_chosen[i][a]+1\n",
    "            q_values[i][a]=q_values[i][a]+(reward-q_values[i][a])/times_chosen[i][a]\n",
    "\n",
    "        avg=np.mean(rewards)\n",
    "        reward_per_episode.append(avg)\n",
    "    plt.plot(reward_per_episode)\n",
    "    plt.xlabel('steps')\n",
    "    plt.ylabel('Average reward')\n",
    "    plt.legend(['eps=0','eps=0.1','eps=0.01'])\n",
    "\n",
    "\n",
    "\n",
    "# YOUR CODE ENDS HERE\n",
    "############################"
   ]
  },
  {
   "cell_type": "markdown",
   "metadata": {},
   "source": [
    "You should get curves similar to that in the book."
   ]
  }
 ],
 "metadata": {
  "kernelspec": {
   "display_name": "Python 3",
   "language": "python",
   "name": "python3"
  },
  "language_info": {
   "codemirror_mode": {
    "name": "ipython",
    "version": 3
   },
   "file_extension": ".py",
   "mimetype": "text/x-python",
   "name": "python",
   "nbconvert_exporter": "python",
   "pygments_lexer": "ipython3",
   "version": "3.5.6"
  }
 },
 "nbformat": 4,
 "nbformat_minor": 2
}
